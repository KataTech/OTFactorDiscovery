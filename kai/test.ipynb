{
 "cells": [
  {
   "cell_type": "code",
   "execution_count": 1,
   "metadata": {},
   "outputs": [],
   "source": [
    "import numpy as np\n",
    "import matplotlib.pyplot as plt \n",
    "import seaborn as sns\n",
    "import src.flow_ot as fo \n",
    "import importlib "
   ]
  },
  {
   "cell_type": "markdown",
   "metadata": {},
   "source": [
    "### 1. Test for Semi-Supervised Training Vector Operations"
   ]
  },
  {
   "cell_type": "code",
   "execution_count": 38,
   "metadata": {},
   "outputs": [],
   "source": [
    "# set seed for reproducibility\n",
    "np.random.seed(125)\n",
    "# set array dimensions \n",
    "N = 4 # number of observations\n",
    "M = 3 # dimension of an observation\n",
    "K = 2 # number of classes\n",
    "# simulate fake data\n",
    "fake_y = np.random.randint(low = 0, high = 100, size = N * M * K).reshape((N * K, M))\n",
    "fake_kern_y = np.random.randint(low = 0, high = 15, size = N * K * N * K).reshape((N * K, N * K))\n",
    "fake_kern_z = np.random.randint(low = -10, high = 10, size = N * K * N * K).reshape((N * K, N * K))\n",
    "fake_prob = np.random.randint(low = 0, high = 5, size = N * K).reshape((N, K))\n",
    "fake_prob = (fake_prob.T / np.sum(fake_prob, axis = 1)).T # normalize"
   ]
  },
  {
   "cell_type": "code",
   "execution_count": 40,
   "metadata": {},
   "outputs": [
    {
     "data": {
      "text/plain": [
       "array([[61, 29, 98],\n",
       "       [87, 67, 77],\n",
       "       [86, 43, 59],\n",
       "       [64, 37, 86],\n",
       "       [98, 95, 27],\n",
       "       [30, 53, 58],\n",
       "       [ 0, 84, 50],\n",
       "       [89, 32, 87]])"
      ]
     },
     "execution_count": 40,
     "metadata": {},
     "output_type": "execute_result"
    }
   ],
   "source": [
    "fake_y"
   ]
  },
  {
   "cell_type": "code",
   "execution_count": 41,
   "metadata": {},
   "outputs": [
    {
     "data": {
      "text/plain": [
       "array([[14,  2,  7, 12,  9, 14,  5,  3],\n",
       "       [ 5, 12, 12,  7, 12,  9,  9,  1],\n",
       "       [ 4,  4, 11, 14,  1,  6,  3,  1],\n",
       "       [ 7,  4, 11,  9,  6, 14, 12,  7],\n",
       "       [ 6,  1, 12, 10,  7,  4,  4, 11],\n",
       "       [11,  2,  7,  5,  6,  8, 14, 11],\n",
       "       [ 0,  3,  3, 10,  3,  9,  2,  4],\n",
       "       [ 0,  0,  0,  1, 13, 12, 13,  9]])"
      ]
     },
     "execution_count": 41,
     "metadata": {},
     "output_type": "execute_result"
    }
   ],
   "source": [
    "fake_kern_y"
   ]
  },
  {
   "cell_type": "code",
   "execution_count": 71,
   "metadata": {},
   "outputs": [
    {
     "name": "stdout",
     "output_type": "stream",
     "text": [
      "The processed index is: 3\n",
      "\n",
      "\n",
      "CURRENTLY PROCESSING - joint kernels\n",
      "The product vectors on the (i=1, k=1) -> 3 entries are... [-14 -40 -11  54  36   0 -96 -28]\n",
      "The weighted vector difference is\n",
      " [[  -42  -112   168]\n",
      " [  920  1200  -360]\n",
      " [  242    66  -297]\n",
      " [    0     0     0]\n",
      " [-1224 -2088  2124]\n",
      " [    0     0     0]\n",
      " [-6144  4512 -3456]\n",
      " [  700  -140    28]]\n",
      "Sum_weights:\n",
      " [-5548  3438 -1793]\n",
      "Sum of the kernel with respect to i, l: -99\n",
      "\n",
      "\n",
      "CURRENTLY PROCESSING - singular y kernel\n",
      "The weighted vector difference is\n",
      " [[  21   56  -84]\n",
      " [ -92 -120   36]\n",
      " [-242  -66  297]\n",
      " [   0    0    0]\n",
      " [-204 -348  354]\n",
      " [ 476 -224  392]\n",
      " [ 768 -564  432]\n",
      " [-175   35   -7]]\n"
     ]
    }
   ],
   "source": [
    "# TODO: set the access data observation and class parameters\n",
    "i = 1; k = 1;\n",
    "# simulate \"get_index\" function \n",
    "l = i * K + k\n",
    "print(f\"The processed index is: {l}\")\n",
    "# reproduce gradient computation: the joint kernel derivative\n",
    "print(\"\\n\\nCURRENTLY PROCESSING - joint kernels\")\n",
    "joint_prod = fake_kern_y[l, :] * fake_kern_z[l, :]\n",
    "print(f\"The product vectors on the (i={i}, k={k}) -> {l} entries are...\", joint_prod)\n",
    "weighted_diffs = (joint_prod * (fake_y[l, :] - fake_y).T).T\n",
    "print(f\"The weighted vector difference is\\n\", weighted_diffs)\n",
    "summed_weights = np.sum(weighted_diffs, axis = 0)\n",
    "print(f\"Sum_weights:\\n\", summed_weights)\n",
    "# check the summation of the kernel (i, k)s \n",
    "print(f\"Sum of the kernel with respect to i, l: {np.sum(joint_prod)}\")\n",
    "# reproduce gradient computation: the singular kernel derivative \n",
    "print(\"\\n\\nCURRENTLY PROCESSING - singular y kernel\")\n",
    "weighted_diffs = (fake_kern_y[l, :] * (fake_y[l, :] - fake_y).T).T\n",
    "print(f\"The weighted vector difference is\\n\", weighted_diffs)"
   ]
  },
  {
   "cell_type": "code",
   "execution_count": 75,
   "metadata": {},
   "outputs": [
    {
     "name": "stdout",
     "output_type": "stream",
     "text": [
      "CURRENTLY PROCESSING - probability weighted kernel\n",
      "Prob Weighted Kern:\n",
      " [[11.2   1.6   5.6   9.6   7.2  11.2   4.    2.4 ]\n",
      " [ 1.    2.4   2.4   1.4   2.4   1.8   1.8   0.2 ]\n",
      " [ 3.    3.    8.25 10.5   0.75  4.5   2.25  0.75]\n",
      " [ 1.75  1.    2.75  2.25  1.5   3.5   3.    1.75]\n",
      " [ 6.    1.   12.   10.    7.    4.    4.   11.  ]\n",
      " [ 0.    0.    0.    0.    0.    0.    0.    0.  ]\n",
      " [ 0.    0.75  0.75  2.5   0.75  2.25  0.5   1.  ]\n",
      " [ 0.    0.    0.    0.75  9.75  9.    9.75  6.75]]\n"
     ]
    }
   ],
   "source": [
    "print(\"CURRENTLY PROCESSING - probability weighted kernel\")\n",
    "weighted_kern_y = np.multiply(fake_prob.reshape((N * K, 1)), fake_kern_y)\n",
    "print(\"Prob Weighted Kern:\\n\", weighted_kern_y)"
   ]
  },
  {
   "cell_type": "code",
   "execution_count": 76,
   "metadata": {},
   "outputs": [
    {
     "data": {
      "text/plain": [
       "4.375"
      ]
     },
     "execution_count": 76,
     "metadata": {},
     "output_type": "execute_result"
    }
   ],
   "source": [
    "fake_prob[i, k] * np.sum(weighted_kern_y[l])"
   ]
  },
  {
   "cell_type": "code",
   "execution_count": 80,
   "metadata": {},
   "outputs": [
    {
     "data": {
      "text/plain": [
       "array([[2.25  , 2.25  , 6.1875, 7.875 , 0.5625, 3.375 , 1.6875, 0.5625],\n",
       "       [0.4375, 0.25  , 0.6875, 0.5625, 0.375 , 0.875 , 0.75  , 0.4375]])"
      ]
     },
     "execution_count": 80,
     "metadata": {},
     "output_type": "execute_result"
    }
   ],
   "source": [
    "(fake_prob[i, :] * (weighted_kern_y[i * K:(i + 1) * K]).T).T"
   ]
  },
  {
   "cell_type": "code",
   "execution_count": 81,
   "metadata": {},
   "outputs": [
    {
     "data": {
      "text/plain": [
       "4.375"
      ]
     },
     "execution_count": 81,
     "metadata": {},
     "output_type": "execute_result"
    }
   ],
   "source": [
    "def estimate_p_ik(i, k, w_kern_y):\n",
    "    l = i * K + k \n",
    "    return fake_prob[i, k] * np.sum(w_kern_y[l, :])\n",
    "\n",
    "estimate_p_ik(i, k, weighted_kern_y) "
   ]
  },
  {
   "cell_type": "code",
   "execution_count": 84,
   "metadata": {},
   "outputs": [],
   "source": [
    "lst = [estimate_p_ik(i, k_prime, weighted_kern_y) for k_prime in np.arange(K)]"
   ]
  },
  {
   "cell_type": "code",
   "execution_count": 86,
   "metadata": {},
   "outputs": [
    {
     "data": {
      "text/plain": [
       "29.125"
      ]
     },
     "execution_count": 86,
     "metadata": {},
     "output_type": "execute_result"
    }
   ],
   "source": [
    "sum(lst)"
   ]
  },
  {
   "cell_type": "markdown",
   "metadata": {},
   "source": [
    "### 2. Test using Real Data"
   ]
  },
  {
   "cell_type": "code",
   "execution_count": 74,
   "metadata": {},
   "outputs": [],
   "source": [
    "# define a function to plot the kernel density estimation\n",
    "def plot_densities(x_a, x_b, y): \n",
    "    \"\"\"\n",
    "    Visualize the kernel density estimations of the samples \n",
    "    from A, B, and the learned barycenter Y. \n",
    "    \"\"\"\n",
    "    _, ax = plt.subplots(figsize=(12, 6))\n",
    "    sns.kdeplot(data=x_a,\n",
    "                color='crimson', label='A', fill=True, ax=ax)\n",
    "    sns.kdeplot(data=x_b,\n",
    "                color='limegreen', label='B', fill=True, ax=ax)\n",
    "    sns.kdeplot(data=y,\n",
    "                color='purple', label='Y', fill=True, ax=ax)\n",
    "    ax.legend()\n",
    "    plt.tight_layout()\n",
    "    plt.show()\n",
    "# generate samples from two 1-D gaussian distributions \n",
    "np.random.seed(125)\n",
    "# set experiment parameters \n",
    "SAMPLE_SIZE = 10\n",
    "NUM_CLASSES = 2\n",
    "TOTAL_SIZE = NUM_CLASSES * SAMPLE_SIZE\n",
    "MEAN_A = -1; SD_A = 1\n",
    "MEAN_B = 1; SD_B = 1\n",
    "# generate the x, labels, and y matrices \n",
    "x_a = np.random.normal(MEAN_A, SD_A, SAMPLE_SIZE)\n",
    "x_b = np.random.normal(MEAN_B, SD_B, SAMPLE_SIZE)\n",
    "x = np.concatenate((x_a, x_b)).reshape((TOTAL_SIZE, 1))\n",
    "labels = np.zeros(TOTAL_SIZE, dtype=np.int64).reshape((TOTAL_SIZE, 1))\n",
    "labels[SAMPLE_SIZE:] = 1\n",
    "z_map = np.array([0, 1]).reshape((NUM_CLASSES, 1))\n",
    "# determine the mask ratio\n",
    "PERCENT_MASKED = 0.05\n",
    "num_masked = int(PERCENT_MASKED * TOTAL_SIZE)\n",
    "mask = np.random.choice(TOTAL_SIZE, num_masked, replace = False)\n",
    "# mark the masked elements as '-1'\n",
    "labels[mask] = -1"
   ]
  },
  {
   "cell_type": "code",
   "execution_count": 75,
   "metadata": {},
   "outputs": [
    {
     "data": {
      "text/plain": [
       "1"
      ]
     },
     "execution_count": 75,
     "metadata": {},
     "output_type": "execute_result"
    }
   ],
   "source": [
    "num_masked"
   ]
  },
  {
   "cell_type": "code",
   "execution_count": 76,
   "metadata": {},
   "outputs": [
    {
     "data": {
      "text/plain": [
       "array([[ 0],\n",
       "       [ 0],\n",
       "       [ 0],\n",
       "       [ 0],\n",
       "       [ 0],\n",
       "       [ 0],\n",
       "       [ 0],\n",
       "       [ 0],\n",
       "       [-1],\n",
       "       [ 0],\n",
       "       [ 1],\n",
       "       [ 1],\n",
       "       [ 1],\n",
       "       [ 1],\n",
       "       [ 1],\n",
       "       [ 1],\n",
       "       [ 1],\n",
       "       [ 1],\n",
       "       [ 1],\n",
       "       [ 1]])"
      ]
     },
     "execution_count": 76,
     "metadata": {},
     "output_type": "execute_result"
    }
   ],
   "source": [
    "labels"
   ]
  },
  {
   "cell_type": "code",
   "execution_count": 78,
   "metadata": {},
   "outputs": [
    {
     "name": "stdout",
     "output_type": "stream",
     "text": [
      "Iteration 1 Gradient Report:\n",
      "[8.32667268e-15]\n",
      "[8.32667268e-15]\n",
      "[-1.66533454e-14]\n",
      "[0.]\n",
      "\n",
      "Probability Update for i=8: [0.5 0.5]\n",
      "Iteration 2 Gradient Report:\n",
      "[8.32667268e-15]\n",
      "[8.32667268e-15]\n",
      "[-1.66533454e-14]\n",
      "[0.]\n",
      "\n",
      "Probability Update for i=8: [0.5 0.5]\n",
      "Iteration 3 Gradient Report:\n",
      "[8.32667268e-15]\n",
      "[8.32667268e-15]\n",
      "[-1.66533454e-14]\n",
      "[0.]\n",
      "\n",
      "Probability Update for i=8: [0.5 0.5]\n",
      "Iteration 4 Gradient Report:\n",
      "[8.32667268e-15]\n",
      "[8.32667268e-15]\n",
      "[-1.66533454e-14]\n",
      "[0.]\n",
      "\n",
      "Probability Update for i=8: [0.5 0.5]\n",
      "Iteration 5 Gradient Report:\n",
      "[8.32667268e-15]\n",
      "[8.32667268e-15]\n",
      "[-1.66533454e-14]\n",
      "[0.]\n",
      "\n",
      "Probability Update for i=8: [0.5 0.5]\n",
      "FINAL: Gradient norm = 2.980949547957902e-14 at iteration 5\n"
     ]
    }
   ],
   "source": [
    "# set-up the semi-supervised learner \n",
    "importlib.reload(fo)\n",
    "ssl = fo.SemiSupervisedOT()\n",
    "ssl.initialize(x, labels, NUM_CLASSES, z_map)\n",
    "y = ssl.train(x, verbose = 5, growing_lambda=False, fixed_lam=150, max_iter = 5)"
   ]
  },
  {
   "cell_type": "code",
   "execution_count": 62,
   "metadata": {},
   "outputs": [
    {
     "data": {
      "image/png": "[encoded data removed]",
      "text/plain": [
       "<Figure size 1200x600 with 1 Axes>"
      ]
     },
     "metadata": {},
     "output_type": "display_data"
    }
   ],
   "source": [
    "plot_densities(x_a, x_b, y)"
   ]
  },
  {
   "cell_type": "code",
   "execution_count": null,
   "metadata": {},
   "outputs": [],
   "source": []
  }
 ],
 "metadata": {
  "kernelspec": {
   "display_name": "am-sure",
   "language": "python",
   "name": "python3"
  },
  "language_info": {
   "codemirror_mode": {
    "name": "ipython",
    "version": 3
   },
   "file_extension": ".py",
   "mimetype": "text/x-python",
   "name": "python",
   "nbconvert_exporter": "python",
   "pygments_lexer": "ipython3",
   "version": "3.11.3"
  },
  "orig_nbformat": 4
 },
 "nbformat": 4,
 "nbformat_minor": 2
}
