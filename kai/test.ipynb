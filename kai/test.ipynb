{
 "cells": [
  {
   "cell_type": "code",
   "execution_count": 136,
   "metadata": {},
   "outputs": [],
   "source": [
    "import numpy as np\n",
    "import matplotlib.pyplot as plt \n",
    "import seaborn as sns\n",
    "import src.flow_ot as fo \n",
    "import importlib "
   ]
  },
  {
   "cell_type": "markdown",
   "metadata": {},
   "source": [
    "### 1. Test for Semi-Supervised Training Vector Operations"
   ]
  },
  {
   "cell_type": "code",
   "execution_count": 38,
   "metadata": {},
   "outputs": [],
   "source": [
    "# set seed for reproducibility\n",
    "np.random.seed(125)\n",
    "# set array dimensions \n",
    "N = 4 # number of observations\n",
    "M = 3 # dimension of an observation\n",
    "K = 2 # number of classes\n",
    "# simulate fake data\n",
    "fake_y = np.random.randint(low = 0, high = 100, size = N * M * K).reshape((N * K, M))\n",
    "fake_kern_y = np.random.randint(low = 0, high = 15, size = N * K * N * K).reshape((N * K, N * K))\n",
    "fake_kern_z = np.random.randint(low = -10, high = 10, size = N * K * N * K).reshape((N * K, N * K))\n",
    "fake_prob = np.random.randint(low = 0, high = 5, size = N * K).reshape((N, K))\n",
    "fake_prob = (fake_prob.T / np.sum(fake_prob, axis = 1)).T # normalize"
   ]
  },
  {
   "cell_type": "code",
   "execution_count": 40,
   "metadata": {},
   "outputs": [
    {
     "data": {
      "text/plain": [
       "array([[61, 29, 98],\n",
       "       [87, 67, 77],\n",
       "       [86, 43, 59],\n",
       "       [64, 37, 86],\n",
       "       [98, 95, 27],\n",
       "       [30, 53, 58],\n",
       "       [ 0, 84, 50],\n",
       "       [89, 32, 87]])"
      ]
     },
     "execution_count": 40,
     "metadata": {},
     "output_type": "execute_result"
    }
   ],
   "source": [
    "fake_y"
   ]
  },
  {
   "cell_type": "code",
   "execution_count": 41,
   "metadata": {},
   "outputs": [
    {
     "data": {
      "text/plain": [
       "array([[14,  2,  7, 12,  9, 14,  5,  3],\n",
       "       [ 5, 12, 12,  7, 12,  9,  9,  1],\n",
       "       [ 4,  4, 11, 14,  1,  6,  3,  1],\n",
       "       [ 7,  4, 11,  9,  6, 14, 12,  7],\n",
       "       [ 6,  1, 12, 10,  7,  4,  4, 11],\n",
       "       [11,  2,  7,  5,  6,  8, 14, 11],\n",
       "       [ 0,  3,  3, 10,  3,  9,  2,  4],\n",
       "       [ 0,  0,  0,  1, 13, 12, 13,  9]])"
      ]
     },
     "execution_count": 41,
     "metadata": {},
     "output_type": "execute_result"
    }
   ],
   "source": [
    "fake_kern_y"
   ]
  },
  {
   "cell_type": "code",
   "execution_count": 71,
   "metadata": {},
   "outputs": [
    {
     "name": "stdout",
     "output_type": "stream",
     "text": [
      "The processed index is: 3\n",
      "\n",
      "\n",
      "CURRENTLY PROCESSING - joint kernels\n",
      "The product vectors on the (i=1, k=1) -> 3 entries are... [-14 -40 -11  54  36   0 -96 -28]\n",
      "The weighted vector difference is\n",
      " [[  -42  -112   168]\n",
      " [  920  1200  -360]\n",
      " [  242    66  -297]\n",
      " [    0     0     0]\n",
      " [-1224 -2088  2124]\n",
      " [    0     0     0]\n",
      " [-6144  4512 -3456]\n",
      " [  700  -140    28]]\n",
      "Sum_weights:\n",
      " [-5548  3438 -1793]\n",
      "Sum of the kernel with respect to i, l: -99\n",
      "\n",
      "\n",
      "CURRENTLY PROCESSING - singular y kernel\n",
      "The weighted vector difference is\n",
      " [[  21   56  -84]\n",
      " [ -92 -120   36]\n",
      " [-242  -66  297]\n",
      " [   0    0    0]\n",
      " [-204 -348  354]\n",
      " [ 476 -224  392]\n",
      " [ 768 -564  432]\n",
      " [-175   35   -7]]\n"
     ]
    }
   ],
   "source": [
    "# TODO: set the access data observation and class parameters\n",
    "i = 1; k = 1;\n",
    "# simulate \"get_index\" function \n",
    "l = i * K + k\n",
    "print(f\"The processed index is: {l}\")\n",
    "# reproduce gradient computation: the joint kernel derivative\n",
    "print(\"\\n\\nCURRENTLY PROCESSING - joint kernels\")\n",
    "joint_prod = fake_kern_y[l, :] * fake_kern_z[l, :]\n",
    "print(f\"The product vectors on the (i={i}, k={k}) -> {l} entries are...\", joint_prod)\n",
    "weighted_diffs = (joint_prod * (fake_y[l, :] - fake_y).T).T\n",
    "print(f\"The weighted vector difference is\\n\", weighted_diffs)\n",
    "summed_weights = np.sum(weighted_diffs, axis = 0)\n",
    "print(f\"Sum_weights:\\n\", summed_weights)\n",
    "# check the summation of the kernel (i, k)s \n",
    "print(f\"Sum of the kernel with respect to i, l: {np.sum(joint_prod)}\")\n",
    "# reproduce gradient computation: the singular kernel derivative \n",
    "print(\"\\n\\nCURRENTLY PROCESSING - singular y kernel\")\n",
    "weighted_diffs = (fake_kern_y[l, :] * (fake_y[l, :] - fake_y).T).T\n",
    "print(f\"The weighted vector difference is\\n\", weighted_diffs)"
   ]
  },
  {
   "cell_type": "code",
   "execution_count": 75,
   "metadata": {},
   "outputs": [
    {
     "name": "stdout",
     "output_type": "stream",
     "text": [
      "CURRENTLY PROCESSING - probability weighted kernel\n",
      "Prob Weighted Kern:\n",
      " [[11.2   1.6   5.6   9.6   7.2  11.2   4.    2.4 ]\n",
      " [ 1.    2.4   2.4   1.4   2.4   1.8   1.8   0.2 ]\n",
      " [ 3.    3.    8.25 10.5   0.75  4.5   2.25  0.75]\n",
      " [ 1.75  1.    2.75  2.25  1.5   3.5   3.    1.75]\n",
      " [ 6.    1.   12.   10.    7.    4.    4.   11.  ]\n",
      " [ 0.    0.    0.    0.    0.    0.    0.    0.  ]\n",
      " [ 0.    0.75  0.75  2.5   0.75  2.25  0.5   1.  ]\n",
      " [ 0.    0.    0.    0.75  9.75  9.    9.75  6.75]]\n"
     ]
    }
   ],
   "source": [
    "print(\"CURRENTLY PROCESSING - probability weighted kernel\")\n",
    "weighted_kern_y = np.multiply(fake_prob.reshape((N * K, 1)), fake_kern_y)\n",
    "print(\"Prob Weighted Kern:\\n\", weighted_kern_y)"
   ]
  },
  {
   "cell_type": "code",
   "execution_count": 76,
   "metadata": {},
   "outputs": [
    {
     "data": {
      "text/plain": [
       "4.375"
      ]
     },
     "execution_count": 76,
     "metadata": {},
     "output_type": "execute_result"
    }
   ],
   "source": [
    "fake_prob[i, k] * np.sum(weighted_kern_y[l])"
   ]
  },
  {
   "cell_type": "code",
   "execution_count": 80,
   "metadata": {},
   "outputs": [
    {
     "data": {
      "text/plain": [
       "array([[2.25  , 2.25  , 6.1875, 7.875 , 0.5625, 3.375 , 1.6875, 0.5625],\n",
       "       [0.4375, 0.25  , 0.6875, 0.5625, 0.375 , 0.875 , 0.75  , 0.4375]])"
      ]
     },
     "execution_count": 80,
     "metadata": {},
     "output_type": "execute_result"
    }
   ],
   "source": [
    "(fake_prob[i, :] * (weighted_kern_y[i * K:(i + 1) * K]).T).T"
   ]
  },
  {
   "cell_type": "code",
   "execution_count": 81,
   "metadata": {},
   "outputs": [
    {
     "data": {
      "text/plain": [
       "4.375"
      ]
     },
     "execution_count": 81,
     "metadata": {},
     "output_type": "execute_result"
    }
   ],
   "source": [
    "def estimate_p_ik(i, k, w_kern_y):\n",
    "    l = i * K + k \n",
    "    return fake_prob[i, k] * np.sum(w_kern_y[l, :])\n",
    "\n",
    "estimate_p_ik(i, k, weighted_kern_y) "
   ]
  },
  {
   "cell_type": "code",
   "execution_count": 84,
   "metadata": {},
   "outputs": [],
   "source": [
    "lst = [estimate_p_ik(i, k_prime, weighted_kern_y) for k_prime in np.arange(K)]"
   ]
  },
  {
   "cell_type": "code",
   "execution_count": 86,
   "metadata": {},
   "outputs": [
    {
     "data": {
      "text/plain": [
       "29.125"
      ]
     },
     "execution_count": 86,
     "metadata": {},
     "output_type": "execute_result"
    }
   ],
   "source": [
    "sum(lst)"
   ]
  },
  {
   "cell_type": "markdown",
   "metadata": {},
   "source": [
    "### 2. Test using Real Data"
   ]
  },
  {
   "cell_type": "code",
   "execution_count": 157,
   "metadata": {},
   "outputs": [],
   "source": [
    "# define a function to plot the kernel density estimation\n",
    "def plot_densities(x_a, x_b, y_ssl, y = None): \n",
    "    \"\"\"\n",
    "    Visualize the kernel density estimations of the samples \n",
    "    from A, B, and the learned barycenter Y. \n",
    "    \"\"\"\n",
    "    _, ax = plt.subplots(figsize=(12, 6))\n",
    "    sns.kdeplot(data=x_a,\n",
    "                color='crimson', label='A', fill=True, ax=ax)\n",
    "    sns.kdeplot(data=x_b,\n",
    "                color='limegreen', label='B', fill=True, ax=ax)\n",
    "    if y is not None: \n",
    "        sns.kdeplot(data=y, color='purple', \n",
    "                    label='Y', fill=True, ax=ax)\n",
    "    sns.kdeplot(data=y_ssl,\n",
    "                color='aquamarine', label='Y_SSL', fill=True, ax=ax)\n",
    "    ax.legend()\n",
    "    plt.tight_layout()\n",
    "    plt.show()\n",
    "# generate samples from two 1-D gaussian distributions \n",
    "np.random.seed(125)\n",
    "# set experiment parameters \n",
    "SAMPLE_SIZE = 10\n",
    "NUM_CLASSES = 2\n",
    "TOTAL_SIZE = NUM_CLASSES * SAMPLE_SIZE\n",
    "MEAN_A = -1; SD_A = 1\n",
    "MEAN_B = 1; SD_B = 1\n",
    "# generate the x, labels, and y matrices \n",
    "x_a = np.random.normal(MEAN_A, SD_A, SAMPLE_SIZE)\n",
    "x_b = np.random.normal(MEAN_B, SD_B, SAMPLE_SIZE)\n",
    "x = np.concatenate((x_a, x_b)).reshape((TOTAL_SIZE, 1))\n",
    "labels = np.zeros(TOTAL_SIZE, dtype=np.int64).reshape((TOTAL_SIZE, 1))\n",
    "labels[SAMPLE_SIZE:] = 1\n",
    "z_map = np.array([[0, 1], [1, 0]])\n",
    "# determine the mask ratio\n",
    "PERCENT_MASKED = 0.9\n",
    "num_masked = int(PERCENT_MASKED * TOTAL_SIZE)\n",
    "mask = np.random.choice(TOTAL_SIZE, num_masked, replace = False)\n",
    "# mark the masked elements as '-1'\n",
    "labels[mask] = -1\n",
    "# compute z \n",
    "z = np.zeros((labels.shape[0], z_map.shape[1]))\n",
    "for i in range(z.shape[0]):\n",
    "    z[i] = z_map[labels[i]]"
   ]
  },
  {
   "cell_type": "code",
   "execution_count": 158,
   "metadata": {},
   "outputs": [
    {
     "name": "stdout",
     "output_type": "stream",
     "text": [
      "Iteration 100: gradient norm = 0.510647527068175\n",
      "Iteration 200: gradient norm = 0.19765477185179806\n",
      "Iteration 300: gradient norm = 0.6410268162795731\n",
      "Iteration 400: gradient norm = 0.49074341941889893\n",
      "Iteration 500: gradient norm = 0.9187351628245084\n",
      "Iteration 600: gradient norm = 4.6553512001806885\n",
      "Iteration 700: gradient norm = 8.83386543263962\n",
      "Iteration 800: gradient norm = 11.374150629167037\n",
      "Iteration 900: gradient norm = 16.05260957568102\n",
      "Iteration 1000: gradient norm = 23.564390040810707\n",
      "Iteration 1100: gradient norm = 26.7802166054686\n",
      "Iteration 1200: gradient norm = 23.55237018051046\n",
      "Iteration 1300: gradient norm = 21.278327112868418\n",
      "Iteration 1400: gradient norm = 21.608958609093584\n",
      "Iteration 1500: gradient norm = 22.828965857244395\n",
      "Iteration 1600: gradient norm = 23.239935664795762\n",
      "Iteration 1700: gradient norm = 22.83138500943245\n",
      "Iteration 1800: gradient norm = 22.48669565888187\n",
      "Iteration 1900: gradient norm = 22.526033131850014\n",
      "Iteration 2000: gradient norm = 22.700259528609106\n",
      "Iteration 2100: gradient norm = 22.75621080246147\n",
      "Iteration 2200: gradient norm = 22.699653489039083\n",
      "Iteration 2300: gradient norm = 22.650722415773675\n",
      "Iteration 2400: gradient norm = 22.656000093384204\n",
      "Iteration 2500: gradient norm = 22.680555446112606\n",
      "Iteration 2600: gradient norm = 22.6884521432157\n",
      "Iteration 2700: gradient norm = 22.680545809332273\n",
      "Iteration 2800: gradient norm = 22.673639979208346\n",
      "Iteration 2900: gradient norm = 22.674358882130168\n",
      "Iteration 3000: gradient norm = 22.677814623415028\n",
      "Iteration 3100: gradient norm = 22.678936131037545\n",
      "Iteration 3200: gradient norm = 22.67783014073419\n",
      "Iteration 3300: gradient norm = 22.676856815494187\n",
      "Iteration 3400: gradient norm = 22.67695535118947\n",
      "Iteration 3500: gradient norm = 22.677441980512953\n",
      "Iteration 3600: gradient norm = 22.67760172469352\n",
      "Iteration 3700: gradient norm = 22.677447292282068\n",
      "Iteration 3800: gradient norm = 22.67731037952555\n",
      "Iteration 3900: gradient norm = 22.67732409233368\n",
      "Iteration 4000: gradient norm = 22.677392793118063\n",
      "Iteration 4100: gradient norm = 22.677415695536816\n",
      "Iteration 4200: gradient norm = 22.677394259181433\n",
      "Iteration 4300: gradient norm = 22.677375107032944\n",
      "Iteration 4400: gradient norm = 22.677377104170464\n",
      "Iteration 4500: gradient norm = 22.67738687748076\n",
      "Iteration 4600: gradient norm = 22.677390222585032\n",
      "Iteration 4700: gradient norm = 22.677387300361364\n",
      "Iteration 4800: gradient norm = 22.6773846656328\n",
      "Iteration 4900: gradient norm = 22.677384993285017\n",
      "Iteration 5000: gradient norm = 22.677386414601923\n",
      "FINAL: Gradient norm = 22.677386414601923 at iteration 5000\n"
     ]
    },
    {
     "data": {
      "image/png": "[encoded data removed]",
      "text/plain": [
       "<Figure size 1200x600 with 1 Axes>"
      ]
     },
     "metadata": {},
     "output_type": "display_data"
    }
   ],
   "source": [
    "# set-up experiment parameters \n",
    "LR_RATE = 0.01\n",
    "INIT_LAM = 50\n",
    "MAX_LAM = 500\n",
    "GROWING_LAM = True\n",
    "SIGMA_Z = 1\n",
    "SIGMA_Y = 1\n",
    "MAX_ITER = 5000\n",
    "WARM_STOP = 200 \n",
    "VERBOSE = 1\n",
    "EPSILON = 0.001\n",
    "Y_INIT = x\n",
    "# reload library for the most updated versions \n",
    "importlib.reload(fo)\n",
    "ssl = fo.SemiSupervisedOT(kernel_y_bandwidth=[SIGMA_Y], kernel_z_bandwidth=[SIGMA_Z])\n",
    "ssl.initialize(x, labels, NUM_CLASSES, z_map)\n",
    "y_ssl, pred = ssl.train(Y_INIT, LR_RATE, EPSILON, MAX_ITER, GROWING_LAM, \n",
    "                    INIT_LAM, WARM_STOP, MAX_LAM, verbose=VERBOSE)\n",
    "# y = fo.compute_barycenter(x, z, Y_INIT, INIT_LAM, \n",
    "#                           epsilon=EPSILON, lr=LR_RATE, \n",
    "#                           max_iter=MAX_ITER, verbose=VERBOSE,\n",
    "#                           growing_lambda=GROWING_LAM, warm_stop=WARM_STOP, \n",
    "#                           max_lambda=MAX_LAM)\n",
    "plot_densities(x_a, x_b, y_ssl)"
   ]
  }
 ],
 "metadata": {
  "kernelspec": {
   "display_name": "am-sure",
   "language": "python",
   "name": "python3"
  },
  "language_info": {
   "codemirror_mode": {
    "name": "ipython",
    "version": 3
   },
   "file_extension": ".py",
   "mimetype": "text/x-python",
   "name": "python",
   "nbconvert_exporter": "python",
   "pygments_lexer": "ipython3",
   "version": "3.11.3"
  },
  "orig_nbformat": 4
 },
 "nbformat": 4,
 "nbformat_minor": 2
}
